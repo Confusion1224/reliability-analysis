{
 "cells": [
  {
   "cell_type": "markdown",
   "id": "cb527721",
   "metadata": {
    "papermill": {
     "duration": 0.00526,
     "end_time": "2025-05-28T02:25:13.638162",
     "exception": false,
     "start_time": "2025-05-28T02:25:13.632902",
     "status": "completed"
    },
    "tags": []
   },
   "source": [
    "# Reliability Analysis\n",
    "\n",
    "## This notebook provides an example of reliability metrics using pandas DataFrame."
   ]
  },
  {
   "cell_type": "code",
   "execution_count": 2,
   "id": "a393f509-8150-4343-9d40-a5588ae8e451",
   "metadata": {},
   "outputs": [],
   "source": [
    "import sys\n",
    "import os\n",
    "\n",
    "sys.path.append(os.path.abspath(os.path.join('..')))\n",
    "from functions.metrics import *"
   ]
  },
  {
   "cell_type": "markdown",
   "id": "2142e387",
   "metadata": {
    "papermill": {
     "duration": 0.00509,
     "end_time": "2025-05-28T02:25:28.374747",
     "exception": false,
     "start_time": "2025-05-28T02:25:28.369657",
     "status": "completed"
    },
    "tags": []
   },
   "source": [
    "Data to be used as an example. You may use pd.read_csv() or other pandas functions to load your data."
   ]
  },
  {
   "cell_type": "code",
   "execution_count": 4,
   "id": "b3abeca5",
   "metadata": {
    "papermill": {
     "duration": 0.049482,
     "end_time": "2025-05-28T02:25:28.429649",
     "exception": false,
     "start_time": "2025-05-28T02:25:28.380167",
     "status": "completed"
    },
    "tags": []
   },
   "outputs": [
    {
     "data": {
      "text/html": [
       "<div>\n",
       "<style scoped>\n",
       "    .dataframe tbody tr th:only-of-type {\n",
       "        vertical-align: middle;\n",
       "    }\n",
       "\n",
       "    .dataframe tbody tr th {\n",
       "        vertical-align: top;\n",
       "    }\n",
       "\n",
       "    .dataframe thead th {\n",
       "        text-align: right;\n",
       "    }\n",
       "</style>\n",
       "<table border=\"1\" class=\"dataframe\">\n",
       "  <thead>\n",
       "    <tr style=\"text-align: right;\">\n",
       "      <th></th>\n",
       "      <th>RaterA</th>\n",
       "      <th>RaterB</th>\n",
       "      <th>RaterC</th>\n",
       "    </tr>\n",
       "    <tr>\n",
       "      <th>PatientID</th>\n",
       "      <th></th>\n",
       "      <th></th>\n",
       "      <th></th>\n",
       "    </tr>\n",
       "  </thead>\n",
       "  <tbody>\n",
       "    <tr>\n",
       "      <th>101</th>\n",
       "      <td>3</td>\n",
       "      <td>4</td>\n",
       "      <td>3</td>\n",
       "    </tr>\n",
       "    <tr>\n",
       "      <th>102</th>\n",
       "      <td>2</td>\n",
       "      <td>2</td>\n",
       "      <td>3</td>\n",
       "    </tr>\n",
       "    <tr>\n",
       "      <th>103</th>\n",
       "      <td>4</td>\n",
       "      <td>4</td>\n",
       "      <td>4</td>\n",
       "    </tr>\n",
       "    <tr>\n",
       "      <th>104</th>\n",
       "      <td>3</td>\n",
       "      <td>3</td>\n",
       "      <td>2</td>\n",
       "    </tr>\n",
       "    <tr>\n",
       "      <th>105</th>\n",
       "      <td>2</td>\n",
       "      <td>3</td>\n",
       "      <td>2</td>\n",
       "    </tr>\n",
       "  </tbody>\n",
       "</table>\n",
       "</div>"
      ],
      "text/plain": [
       "           RaterA  RaterB  RaterC\n",
       "PatientID                        \n",
       "101             3       4       3\n",
       "102             2       2       3\n",
       "103             4       4       4\n",
       "104             3       3       2\n",
       "105             2       3       2"
      ]
     },
     "execution_count": 4,
     "metadata": {},
     "output_type": "execute_result"
    }
   ],
   "source": [
    "ratings_wide = pd.DataFrame({\n",
    "    'PatientID': [101, 102, 103, 104, 105],\n",
    "    'RaterA': [3, 2, 4, 3, 2],          # 1-5 severity scale\n",
    "    'RaterB': [4, 2, 4, 3, 3],          # 1-5 severity scale\n",
    "    'RaterC': [3, 3, 4, 2, 2]           # 1-5 severity scale\n",
    "}).set_index('PatientID')  # Using PatientID as index\n",
    "\n",
    "ratings_wide"
   ]
  },
  {
   "cell_type": "markdown",
   "id": "0f8702e3",
   "metadata": {
    "papermill": {
     "duration": 0.005637,
     "end_time": "2025-05-28T02:25:28.441089",
     "exception": false,
     "start_time": "2025-05-28T02:25:28.435452",
     "status": "completed"
    },
    "tags": []
   },
   "source": [
    "# 1. Kappa Statistics"
   ]
  },
  {
   "cell_type": "markdown",
   "id": "f93b6515",
   "metadata": {
    "papermill": {
     "duration": 0.006088,
     "end_time": "2025-05-28T02:25:28.454213",
     "exception": false,
     "start_time": "2025-05-28T02:25:28.448125",
     "status": "completed"
    },
    "tags": []
   },
   "source": [
    "Cohen Kappa (2 raters)"
   ]
  },
  {
   "cell_type": "code",
   "execution_count": 7,
   "id": "3318e439",
   "metadata": {
    "_cell_guid": "b1076dfc-b9ad-4769-8c92-a6c4dae69d19",
    "_uuid": "8f2839f25d086af736a60e9eeb907d3b93b6e0e5",
    "papermill": {
     "duration": 0.015842,
     "end_time": "2025-05-28T02:25:28.475981",
     "exception": false,
     "start_time": "2025-05-28T02:25:28.460139",
     "status": "completed"
    },
    "tags": []
   },
   "outputs": [],
   "source": [
    "def cohens_kappa_from_df(\n",
    "    df: pd.DataFrame, \n",
    "    rater_a: str, \n",
    "    rater_b: str, \n",
    "    categories: list = None,\n",
    "    return_results: bool = False\n",
    "):\n",
    "    \"\"\"\n",
    "    Compute Cohen's Kappa directly from a pandas DataFrame.\n",
    "\n",
    "    Parameters:\n",
    "    -----------\n",
    "    df : pd.DataFrame\n",
    "        DataFrame containing ratings from two raters.\n",
    "    rater_a, rater_b : str\n",
    "        Column names of the two raters.\n",
    "    categories : list, optional\n",
    "        List of all possible categories. If None, inferred from the data.\n",
    "    return_results : bool, default False\n",
    "        If True, returns the full results object (including standard error).\n",
    "        If False, returns only the Kappa point estimate.\n",
    "\n",
    "    Returns:\n",
    "    --------\n",
    "    float or namedtuple\n",
    "        Cohen's Kappa statistic (float if return_results=False).\n",
    "        Full results (namedtuple with `kappa` and `std_err`) if return_results=True.\n",
    "    \"\"\"\n",
    "    \n",
    "    ratings_a = df[rater_a]\n",
    "    ratings_b = df[rater_b]\n",
    "    \n",
    "    if categories is None:\n",
    "        categories = sorted(set(ratings_a).union(set(ratings_b)))\n",
    "    \n",
    "    contingency = pd.crosstab(\n",
    "        ratings_a, \n",
    "        ratings_b, \n",
    "        rownames=[rater_a], \n",
    "        colnames=[rater_b]\n",
    "    ).reindex(index=categories, columns=categories, fill_value=0)\n",
    "    \n",
    "    results = cohens_kappa(contingency.values)\n",
    "    \n",
    "    return results if return_results else results.kappa"
   ]
  },
  {
   "cell_type": "code",
   "execution_count": 8,
   "id": "981a29cb",
   "metadata": {
    "papermill": {
     "duration": 0.055126,
     "end_time": "2025-05-28T02:25:28.537500",
     "exception": false,
     "start_time": "2025-05-28T02:25:28.482374",
     "status": "completed"
    },
    "tags": []
   },
   "outputs": [
    {
     "data": {
      "text/plain": [
       "0.41176470588235287"
      ]
     },
     "execution_count": 8,
     "metadata": {},
     "output_type": "execute_result"
    }
   ],
   "source": [
    "cohens_kappa_from_df(ratings_wide, 'RaterA', 'RaterB')"
   ]
  },
  {
   "cell_type": "code",
   "execution_count": 9,
   "id": "60594ff0",
   "metadata": {
    "papermill": {
     "duration": 0.029273,
     "end_time": "2025-05-28T02:25:28.572519",
     "exception": false,
     "start_time": "2025-05-28T02:25:28.543246",
     "status": "completed"
    },
    "tags": []
   },
   "outputs": [
    {
     "data": {
      "text/plain": [
       "{'kind': 'Simple',\n",
       " 'kappa': 0.41176470588235287,\n",
       " 'kappa_max': 0.7058823529411765,\n",
       " 'weights': None,\n",
       " 'var_kappa': 0.09662240634092031,\n",
       " 'var_kappa0': 0.08581314878892737,\n",
       " 'alpha': 0.025,\n",
       " 'alpha_ci': '  95',\n",
       " 'std_kappa': 0.3108414488785566,\n",
       " 'std_kappa0': 0.2929388140703232,\n",
       " 'z_value': 1.4056338255793723,\n",
       " 'pvalue_one_sided': 0.07991644315884988,\n",
       " 'pvalue_two_sided': 0.15983288631769976,\n",
       " 'kappa_low': -0.19747333882186652,\n",
       " 'kappa_upp': 1.0210027505865722,\n",
       " 'distribution_kappa': <scipy.stats._distn_infrastructure.rv_continuous_frozen at 0x1e3bf356cf0>,\n",
       " 'distribution_zero_null': <scipy.stats._distn_infrastructure.rv_continuous_frozen at 0x1e3bf355700>}"
      ]
     },
     "execution_count": 9,
     "metadata": {},
     "output_type": "execute_result"
    }
   ],
   "source": [
    "cohens_kappa_from_df(ratings_wide, 'RaterA', 'RaterB', return_results=True)"
   ]
  },
  {
   "cell_type": "markdown",
   "id": "4e8ad749",
   "metadata": {
    "papermill": {
     "duration": 0.005444,
     "end_time": "2025-05-28T02:25:28.584626",
     "exception": false,
     "start_time": "2025-05-28T02:25:28.579182",
     "status": "completed"
    },
    "tags": []
   },
   "source": [
    "Fleiss Kappa (2+ Raters)"
   ]
  },
  {
   "cell_type": "code",
   "execution_count": 11,
   "id": "13024512",
   "metadata": {
    "papermill": {
     "duration": 0.016952,
     "end_time": "2025-05-28T02:25:28.607201",
     "exception": false,
     "start_time": "2025-05-28T02:25:28.590249",
     "status": "completed"
    },
    "tags": []
   },
   "outputs": [],
   "source": [
    "def fleiss_kappa_from_df(df: pd.DataFrame, categories: list = None) -> float:\n",
    "    \"\"\"\n",
    "    Compute Fleiss' Kappa directly from a pandas DataFrame.\n",
    "\n",
    "    Parameters:\n",
    "    -----------\n",
    "    df : pd.DataFrame\n",
    "        DataFrame where rows are subjects and columns are raters.\n",
    "        Each cell contains the category assigned by a rater to a subject.\n",
    "    categories : list, optional\n",
    "        List of all possible categories. If None, inferred from the data.\n",
    "\n",
    "    Returns:\n",
    "    --------\n",
    "    float\n",
    "        Fleiss' Kappa statistic (between -1 and 1).\n",
    "    \"\"\"\n",
    "    \n",
    "    if categories is None:\n",
    "        categories = np.unique(df.values)\n",
    "    \n",
    "    n_subjects = df.shape[0]\n",
    "    n_categories = len(categories)\n",
    "    \n",
    "    agg = np.zeros((n_subjects, n_categories), dtype=int)\n",
    "    \n",
    "    for i, (index, subject) in enumerate(df.iterrows()):\n",
    "        for category_idx, category in enumerate(categories):\n",
    "            agg[i, category_idx] = (subject == category).sum()\n",
    "    \n",
    "    return fleiss_kappa(agg)"
   ]
  },
  {
   "cell_type": "code",
   "execution_count": 12,
   "id": "3c2077ac",
   "metadata": {
    "papermill": {
     "duration": 0.017651,
     "end_time": "2025-05-28T02:25:28.631512",
     "exception": false,
     "start_time": "2025-05-28T02:25:28.613861",
     "status": "completed"
    },
    "tags": []
   },
   "outputs": [
    {
     "data": {
      "text/plain": [
       "0.18918918918918906"
      ]
     },
     "execution_count": 12,
     "metadata": {},
     "output_type": "execute_result"
    }
   ],
   "source": [
    "fleiss_kappa_from_df(ratings_wide)"
   ]
  },
  {
   "cell_type": "markdown",
   "id": "860e3024",
   "metadata": {
    "papermill": {
     "duration": 0.005568,
     "end_time": "2025-05-28T02:25:28.642991",
     "exception": false,
     "start_time": "2025-05-28T02:25:28.637423",
     "status": "completed"
    },
    "tags": []
   },
   "source": [
    "## 2. Agreement Scores"
   ]
  },
  {
   "cell_type": "markdown",
   "id": "d292b091",
   "metadata": {
    "papermill": {
     "duration": 0.005516,
     "end_time": "2025-05-28T02:25:28.654365",
     "exception": false,
     "start_time": "2025-05-28T02:25:28.648849",
     "status": "completed"
    },
    "tags": []
   },
   "source": [
    "Krippendorff Alpha"
   ]
  },
  {
   "cell_type": "code",
   "execution_count": 15,
   "id": "fb0daff8",
   "metadata": {
    "papermill": {
     "duration": 0.015749,
     "end_time": "2025-05-28T02:25:28.676377",
     "exception": false,
     "start_time": "2025-05-28T02:25:28.660628",
     "status": "completed"
    },
    "tags": []
   },
   "outputs": [],
   "source": [
    "def krippendorff_alpha_from_df(df, level_of_measurement='nominal'):\n",
    "    \"\"\"\n",
    "    Computes Krippendorff's Alpha for inter-rater reliability.\n",
    "    \n",
    "    Parameters:\n",
    "    - df: DataFrame where each column represents a rater and each row represents a subject.\n",
    "    - level_of_measurement: 'nominal', 'ordinal', 'interval', or 'ratio' (default: 'nominal')\n",
    "    \n",
    "    Returns:\n",
    "    - Krippendorff's Alpha (float)\n",
    "    \"\"\"\n",
    "    ratings = df.values.T  # Transpose to shape (n_raters, n_subjects)\n",
    "    \n",
    "    alpha = krippendorff.alpha(\n",
    "        reliability_data=ratings,\n",
    "        level_of_measurement=level_of_measurement\n",
    "    )\n",
    "   \n",
    "    return alpha"
   ]
  },
  {
   "cell_type": "code",
   "execution_count": 16,
   "id": "0e7cc0e9",
   "metadata": {
    "papermill": {
     "duration": 0.020896,
     "end_time": "2025-05-28T02:25:28.703382",
     "exception": false,
     "start_time": "2025-05-28T02:25:28.682486",
     "status": "completed"
    },
    "tags": []
   },
   "outputs": [
    {
     "data": {
      "text/plain": [
       "0.2432432432432431"
      ]
     },
     "execution_count": 16,
     "metadata": {},
     "output_type": "execute_result"
    }
   ],
   "source": [
    "krippendorff_alpha_from_df(ratings_wide)"
   ]
  },
  {
   "cell_type": "code",
   "execution_count": 17,
   "id": "b2ad9e7e",
   "metadata": {
    "papermill": {
     "duration": 0.017882,
     "end_time": "2025-05-28T02:25:28.731448",
     "exception": false,
     "start_time": "2025-05-28T02:25:28.713566",
     "status": "completed"
    },
    "tags": []
   },
   "outputs": [
    {
     "data": {
      "text/plain": [
       "0.5635016835016835"
      ]
     },
     "execution_count": 17,
     "metadata": {},
     "output_type": "execute_result"
    }
   ],
   "source": [
    "krippendorff_alpha_from_df(ratings_wide, 'ordinal')"
   ]
  },
  {
   "cell_type": "markdown",
   "id": "455c13fd",
   "metadata": {
    "papermill": {
     "duration": 0.005868,
     "end_time": "2025-05-28T02:25:28.743572",
     "exception": false,
     "start_time": "2025-05-28T02:25:28.737704",
     "status": "completed"
    },
    "tags": []
   },
   "source": [
    "Scott's Pi"
   ]
  },
  {
   "cell_type": "code",
   "execution_count": 19,
   "id": "877bd10f",
   "metadata": {
    "papermill": {
     "duration": 0.018879,
     "end_time": "2025-05-28T02:25:28.768533",
     "exception": false,
     "start_time": "2025-05-28T02:25:28.749654",
     "status": "completed"
    },
    "tags": []
   },
   "outputs": [],
   "source": [
    "import pandas as pd\n",
    "import numpy as np\n",
    "\n",
    "def scotts_pi_from_df(df=None, rater1_col=None, rater2_col=None, return_results=False):\n",
    "    \"\"\"Compute Scott's Pi from a pandas DataFrame.\n",
    "\n",
    "    Parameters\n",
    "    ----------\n",
    "    df : pandas.DataFrame\n",
    "        A DataFrame containing the ratings from two raters.\n",
    "    rater1_col : str, optional\n",
    "        Name of the column for the first rater's ratings.\n",
    "    rater2_col : str, optional\n",
    "        Name of the column for the second rater's ratings.\n",
    "    return_results : bool, default False\n",
    "        If True, returns a dict with observed agreement, expected agreement, and Scott's Pi.\n",
    "        If False, returns only Scott's Pi.\n",
    "\n",
    "    Returns\n",
    "    -------\n",
    "    float or dict\n",
    "        Scott's Pi (if return_results=False) or full results (if return_results=True).\n",
    "    \"\"\"\n",
    "    if df is None:\n",
    "        raise ValueError(\"Input DataFrame cannot be None.\")\n",
    "    if df.shape[1] < 2:\n",
    "        raise ValueError(\"DataFrame must have at least two columns for two raters.\")\n",
    "\n",
    "    if rater1_col is None or rater2_col is None:\n",
    "        ratings1 = df.iloc[:, 0]\n",
    "        ratings2 = df.iloc[:, 1]\n",
    "    else:\n",
    "        ratings1 = df[rater1_col]\n",
    "        ratings2 = df[rater2_col]\n",
    "\n",
    "    valid_pairs = pd.DataFrame({'r1': ratings1, 'r2': ratings2}).dropna()\n",
    "    n = len(valid_pairs)\n",
    "    if n == 0:\n",
    "        raise ValueError(\"No valid rating pairs after dropping missing values.\")\n",
    "\n",
    "    o_agree = np.mean(valid_pairs['r1'] == valid_pairs['r2'])\n",
    "\n",
    "    combined = pd.concat([valid_pairs['r1'], valid_pairs['r2']])\n",
    "    p = combined.value_counts(normalize=True)\n",
    "    e_agree = np.sum(p**2)\n",
    "\n",
    "    if e_agree == 1:\n",
    "        pi = 1.0\n",
    "    else:\n",
    "        pi = (o_agree - e_agree) / (1 - e_agree)\n",
    "\n",
    "    result = {'observed_agreement': o_agree,\n",
    "              'expected_agreement': e_agree,\n",
    "              'scotts_pi': pi}\n",
    "    \n",
    "    return result if return_results else pi"
   ]
  },
  {
   "cell_type": "code",
   "execution_count": 20,
   "id": "2d864072",
   "metadata": {
    "papermill": {
     "duration": 0.022521,
     "end_time": "2025-05-28T02:25:28.797461",
     "exception": false,
     "start_time": "2025-05-28T02:25:28.774940",
     "status": "completed"
    },
    "tags": []
   },
   "outputs": [
    {
     "data": {
      "text/plain": [
       "0.3939393939393939"
      ]
     },
     "execution_count": 20,
     "metadata": {},
     "output_type": "execute_result"
    }
   ],
   "source": [
    "scotts_pi_from_df(ratings_wide)"
   ]
  },
  {
   "cell_type": "markdown",
   "id": "b9dcd4d7",
   "metadata": {
    "papermill": {
     "duration": 0.006156,
     "end_time": "2025-05-28T02:25:28.809753",
     "exception": false,
     "start_time": "2025-05-28T02:25:28.803597",
     "status": "completed"
    },
    "tags": []
   },
   "source": [
    "Spearman Correlation"
   ]
  },
  {
   "cell_type": "code",
   "execution_count": 22,
   "id": "a881e6f4",
   "metadata": {
    "papermill": {
     "duration": 0.016953,
     "end_time": "2025-05-28T02:25:28.832876",
     "exception": false,
     "start_time": "2025-05-28T02:25:28.815923",
     "status": "completed"
    },
    "tags": []
   },
   "outputs": [],
   "source": [
    "def spearman_corr_from_df(df=None, col1=None, col2=None, return_results=False):\n",
    "    \"\"\"\n",
    "    Compute Spearman's rank correlation between two columns in a DataFrame.\n",
    "\n",
    "    Parameters\n",
    "    ----------\n",
    "    df : pandas.DataFrame\n",
    "        Input DataFrame containing the two columns to compare\n",
    "    col1 : str, optional\n",
    "        Name of first column (default: first column in DataFrame)\n",
    "    col2 : str, optional\n",
    "        Name of second column (default: second column in DataFrame)\n",
    "    return_results : bool, default False\n",
    "        If True, returns dictionary with correlation, p-value, and sample size\n",
    "        If False, returns only the correlation coefficient\n",
    "\n",
    "    Returns\n",
    "    -------\n",
    "    float or dict\n",
    "        Spearman's rho (if return_results=False)\n",
    "        or full results (if return_results=True)\n",
    "    \"\"\"\n",
    "    if df is None:\n",
    "        raise ValueError(\"Input DataFrame cannot be None\")\n",
    "    if len(df.columns) < 2:\n",
    "        raise ValueError(\"DataFrame must have at least two columns\")\n",
    "\n",
    "    if col1 is None or col2 is None:\n",
    "        x = df.iloc[:, 0]\n",
    "        y = df.iloc[:, 1]\n",
    "    else:\n",
    "        x = df[col1]\n",
    "        y = df[col2]\n",
    "\n",
    "    valid_pairs = pd.DataFrame({'x': x, 'y': y}).dropna()\n",
    "    n = len(valid_pairs)\n",
    "    if n < 3:\n",
    "        raise ValueError(f\"Need at least 3 valid pairs (found {n})\")\n",
    "\n",
    "    rho, pval = stats.spearmanr(valid_pairs['x'], valid_pairs['y'])\n",
    "\n",
    "    if return_results:\n",
    "        return {\n",
    "            'correlation': rho,\n",
    "            'p_value': pval\n",
    "        }\n",
    "    return rho\n"
   ]
  },
  {
   "cell_type": "code",
   "execution_count": 23,
   "id": "b9c2e5e3",
   "metadata": {
    "papermill": {
     "duration": 0.030616,
     "end_time": "2025-05-28T02:25:28.869591",
     "exception": false,
     "start_time": "2025-05-28T02:25:28.838975",
     "status": "completed"
    },
    "tags": []
   },
   "outputs": [
    {
     "data": {
      "text/plain": [
       "0.8055555555555555"
      ]
     },
     "execution_count": 23,
     "metadata": {},
     "output_type": "execute_result"
    }
   ],
   "source": [
    "spearman_corr_from_df(ratings_wide, 'RaterA', 'RaterB')"
   ]
  },
  {
   "cell_type": "markdown",
   "id": "4551ed70",
   "metadata": {
    "papermill": {
     "duration": 0.005806,
     "end_time": "2025-05-28T02:25:28.881776",
     "exception": false,
     "start_time": "2025-05-28T02:25:28.875970",
     "status": "completed"
    },
    "tags": []
   },
   "source": [
    "Cronbach's Alpha"
   ]
  },
  {
   "cell_type": "code",
   "execution_count": 25,
   "id": "acbf54c8",
   "metadata": {
    "papermill": {
     "duration": 0.016589,
     "end_time": "2025-05-28T02:25:28.904426",
     "exception": false,
     "start_time": "2025-05-28T02:25:28.887837",
     "status": "completed"
    },
    "tags": []
   },
   "outputs": [],
   "source": [
    "def cronbachs_alpha_from_df(df=None, items=None, return_results=False):\n",
    "    \"\"\"\n",
    "    Compute Cronbach's Alpha for scale reliability.\n",
    "\n",
    "    Parameters\n",
    "    ----------\n",
    "    df : pandas.DataFrame\n",
    "        DataFrame where each column represents an item in the scale\n",
    "    items : list, optional\n",
    "        List of column names to include (default: all numeric columns)\n",
    "    return_results : bool, default False\n",
    "        If True, returns dictionary with alpha, item stats, and interpretation\n",
    "        If False, returns only alpha value\n",
    "\n",
    "    Returns\n",
    "    -------\n",
    "    float or dict\n",
    "        Cronbach's Alpha (if return_results=False)\n",
    "        or full results (if return_results=True)\n",
    "    \"\"\"\n",
    "    if df is None:\n",
    "        raise ValueError(\"Input DataFrame cannot be None\")\n",
    "    \n",
    "    if items is None:\n",
    "        items = df.select_dtypes(include=[np.number]).columns.tolist()\n",
    "    if len(items) < 2:\n",
    "        raise ValueError(\"Need at least 2 items to compute reliability\")\n",
    "    \n",
    "    df_items = df[items].dropna()\n",
    "    n_items = len(items)\n",
    "    n_obs = len(df_items)\n",
    "    \n",
    "    if n_obs < 2:\n",
    "        raise ValueError(f\"Need at least 2 complete observations (found {n_obs})\")\n",
    "    \n",
    "    item_vars = df_items.var(ddof=1)\n",
    "    total_var = df_items.sum(axis=1).var(ddof=1)\n",
    "    \n",
    "    alpha = (n_items / (n_items - 1)) * (1 - item_vars.sum() / total_var)\n",
    "    \n",
    "    if return_results:\n",
    "        return {\n",
    "            'alpha': alpha,\n",
    "            'item_variance': item_vars.to_dict(),\n",
    "            'scale_variance': total_var\n",
    "        }\n",
    "    return alpha"
   ]
  },
  {
   "cell_type": "code",
   "execution_count": 26,
   "id": "0e1a54cf",
   "metadata": {
    "papermill": {
     "duration": 0.020598,
     "end_time": "2025-05-28T02:25:28.931315",
     "exception": false,
     "start_time": "2025-05-28T02:25:28.910717",
     "status": "completed"
    },
    "tags": []
   },
   "outputs": [
    {
     "data": {
      "text/plain": [
       "0.8297872340425531"
      ]
     },
     "execution_count": 26,
     "metadata": {},
     "output_type": "execute_result"
    }
   ],
   "source": [
    "cronbachs_alpha_from_df(ratings_wide)"
   ]
  }
 ],
 "metadata": {
  "kaggle": {
   "accelerator": "none",
   "dataSources": [],
   "dockerImageVersionId": 31040,
   "isGpuEnabled": false,
   "isInternetEnabled": true,
   "language": "python",
   "sourceType": "notebook"
  },
  "kernelspec": {
   "display_name": "Python 3 (ipykernel)",
   "language": "python",
   "name": "python3"
  },
  "language_info": {
   "codemirror_mode": {
    "name": "ipython",
    "version": 3
   },
   "file_extension": ".py",
   "mimetype": "text/x-python",
   "name": "python",
   "nbconvert_exporter": "python",
   "pygments_lexer": "ipython3",
   "version": "3.12.4"
  },
  "papermill": {
   "default_parameters": {},
   "duration": 22.868084,
   "end_time": "2025-05-28T02:25:29.660220",
   "environment_variables": {},
   "exception": null,
   "input_path": "__notebook__.ipynb",
   "output_path": "__notebook__.ipynb",
   "parameters": {},
   "start_time": "2025-05-28T02:25:06.792136",
   "version": "2.6.0"
  }
 },
 "nbformat": 4,
 "nbformat_minor": 5
}
